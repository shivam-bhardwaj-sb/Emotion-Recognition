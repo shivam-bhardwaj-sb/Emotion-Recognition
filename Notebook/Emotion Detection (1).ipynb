{
 "cells": [
  {
   "cell_type": "code",
   "execution_count": 34,
   "metadata": {},
   "outputs": [],
   "source": [
    "import pandas as pd\n",
    "import numpy as np\n",
    "from keras.models import Sequential\n",
    "from keras.layers import BatchNormalization,MaxPooling2D,Conv2D,Dropout,Permute,Flatten,Dense\n",
    "import cv2\n",
    "from keras.preprocessing.image import ImageDataGenerator\n",
    "from keras.callbacks import LearningRateScheduler,EarlyStopping,ModelCheckpoint,ReduceLROnPlateau,Callback"
   ]
  },
  {
   "cell_type": "code",
   "execution_count": 36,
   "metadata": {},
   "outputs": [],
   "source": [
    "train_datagen = ImageDataGenerator(\n",
    "      rescale=1./255,\n",
    "      rotation_range=30,\n",
    "      shear_range=0.3,\n",
    "      zoom_range=0.3,\n",
    "      width_shift_range=0.4,\n",
    "      height_shift_range=0.4,\n",
    "      horizontal_flip=True,\n",
    "      fill_mode='nearest')\n",
    "input_layer_shape=(48,48,1)\n",
    "num_of_classes=7"
   ]
  },
  {
   "cell_type": "code",
   "execution_count": 37,
   "metadata": {},
   "outputs": [],
   "source": [
    "validation_data_generator=ImageDataGenerator(rescale=1./255)"
   ]
  },
  {
   "cell_type": "code",
   "execution_count": 38,
   "metadata": {},
   "outputs": [],
   "source": [
    "train_directory='/Users/lav/Downloads/fer2013/train'"
   ]
  },
  {
   "cell_type": "code",
   "execution_count": 39,
   "metadata": {},
   "outputs": [],
   "source": [
    "validation_directory='/Users/lav/Downloads/fer2013/validation'"
   ]
  },
  {
   "cell_type": "code",
   "execution_count": 40,
   "metadata": {},
   "outputs": [
    {
     "name": "stdout",
     "output_type": "stream",
     "text": [
      "Found 28709 images belonging to 7 classes.\n"
     ]
    }
   ],
   "source": [
    "train_data=train_datagen.flow_from_directory(train_directory,target_size=(48,48),color_mode='grayscale',\n",
    "                                            batch_size=16)"
   ]
  },
  {
   "cell_type": "code",
   "execution_count": 41,
   "metadata": {},
   "outputs": [
    {
     "name": "stdout",
     "output_type": "stream",
     "text": [
      "Found 3589 images belonging to 7 classes.\n"
     ]
    }
   ],
   "source": [
    "validation_data=validation_data_generator.flow_from_directory(validation_directory,target_size=(48,48),color_mode='grayscale',\n",
    "                                            batch_size=16)"
   ]
  },
  {
   "cell_type": "markdown",
   "metadata": {},
   "source": [
    "### Little VGG"
   ]
  },
  {
   "cell_type": "code",
   "execution_count": 42,
   "metadata": {},
   "outputs": [],
   "source": [
    "model=Sequential()\n",
    "model.add(Conv2D(32,(3,3),activation='elu',padding='same',kernel_initializer='he_normal'\n",
    "                 ,input_shape=input_layer_shape))\n",
    "model.add(BatchNormalization())\n",
    "model.add(Conv2D(32,(3,3),activation='elu',padding='same',kernel_initializer='he_normal'))\n",
    "model.add(BatchNormalization())\n",
    "model.add(MaxPooling2D(pool_size=(2,2)))\n",
    "model.add(Dropout(0.2))\n",
    "\n",
    "model.add(Conv2D(64,(3,3),activation='elu',padding='same',kernel_initializer='he_normal'\n",
    "                 ,input_shape=input_layer_shape))\n",
    "model.add(BatchNormalization())\n",
    "model.add(Conv2D(64,(3,3),activation='elu',padding='same',kernel_initializer='he_normal'))\n",
    "model.add(BatchNormalization())\n",
    "model.add(MaxPooling2D(pool_size=(2,2)))\n",
    "model.add(Dropout(0.2))\n",
    "\n",
    "model.add(Conv2D(128,(3,3),activation='elu',padding='same',kernel_initializer='he_normal'\n",
    "                 ,input_shape=input_layer_shape))\n",
    "model.add(BatchNormalization())\n",
    "model.add(Conv2D(128,(3,3),activation='elu',padding='same',kernel_initializer='he_normal'))\n",
    "model.add(BatchNormalization())\n",
    "model.add(MaxPooling2D(pool_size=(2,2)))\n",
    "model.add(Dropout(0.2))\n",
    "\n",
    "model.add(Conv2D(256,(3,3),activation='elu',padding='same',kernel_initializer='he_normal'\n",
    "                 ,input_shape=input_layer_shape))\n",
    "model.add(BatchNormalization())\n",
    "model.add(Conv2D(256,(3,3),activation='elu',padding='same',kernel_initializer='he_normal'))\n",
    "model.add(BatchNormalization())\n",
    "model.add(MaxPooling2D(pool_size=(2,2)))\n",
    "model.add(Dropout(0.2))\n",
    "\n",
    "model.add(Flatten())\n",
    "model.add(Dense(64,activation='elu',kernel_initializer='he_normal'))\n",
    "model.add(BatchNormalization())\n",
    "model.add(Dropout(0.5))\n",
    "\n",
    "model.add(Dense(64,activation='elu',kernel_initializer='he_normal'))\n",
    "model.add(BatchNormalization())\n",
    "model.add(Dropout(0.5))\n",
    "\n",
    "model.add(Dense(num_of_classes,activation='softmax',kernel_initializer='he_normal'))"
   ]
  },
  {
   "cell_type": "code",
   "execution_count": 43,
   "metadata": {},
   "outputs": [
    {
     "name": "stdout",
     "output_type": "stream",
     "text": [
      "Model: \"sequential_4\"\n",
      "_________________________________________________________________\n",
      "Layer (type)                 Output Shape              Param #   \n",
      "=================================================================\n",
      "conv2d_32 (Conv2D)           (None, 48, 48, 32)        320       \n",
      "_________________________________________________________________\n",
      "batch_normalization_36 (Batc (None, 48, 48, 32)        128       \n",
      "_________________________________________________________________\n",
      "conv2d_33 (Conv2D)           (None, 48, 48, 32)        9248      \n",
      "_________________________________________________________________\n",
      "batch_normalization_37 (Batc (None, 48, 48, 32)        128       \n",
      "_________________________________________________________________\n",
      "max_pooling2d_16 (MaxPooling (None, 24, 24, 32)        0         \n",
      "_________________________________________________________________\n",
      "dropout_20 (Dropout)         (None, 24, 24, 32)        0         \n",
      "_________________________________________________________________\n",
      "conv2d_34 (Conv2D)           (None, 24, 24, 64)        18496     \n",
      "_________________________________________________________________\n",
      "batch_normalization_38 (Batc (None, 24, 24, 64)        256       \n",
      "_________________________________________________________________\n",
      "conv2d_35 (Conv2D)           (None, 24, 24, 64)        36928     \n",
      "_________________________________________________________________\n",
      "batch_normalization_39 (Batc (None, 24, 24, 64)        256       \n",
      "_________________________________________________________________\n",
      "max_pooling2d_17 (MaxPooling (None, 12, 12, 64)        0         \n",
      "_________________________________________________________________\n",
      "dropout_21 (Dropout)         (None, 12, 12, 64)        0         \n",
      "_________________________________________________________________\n",
      "conv2d_36 (Conv2D)           (None, 12, 12, 128)       73856     \n",
      "_________________________________________________________________\n",
      "batch_normalization_40 (Batc (None, 12, 12, 128)       512       \n",
      "_________________________________________________________________\n",
      "conv2d_37 (Conv2D)           (None, 12, 12, 128)       147584    \n",
      "_________________________________________________________________\n",
      "batch_normalization_41 (Batc (None, 12, 12, 128)       512       \n",
      "_________________________________________________________________\n",
      "max_pooling2d_18 (MaxPooling (None, 6, 6, 128)         0         \n",
      "_________________________________________________________________\n",
      "dropout_22 (Dropout)         (None, 6, 6, 128)         0         \n",
      "_________________________________________________________________\n",
      "conv2d_38 (Conv2D)           (None, 6, 6, 256)         295168    \n",
      "_________________________________________________________________\n",
      "batch_normalization_42 (Batc (None, 6, 6, 256)         1024      \n",
      "_________________________________________________________________\n",
      "conv2d_39 (Conv2D)           (None, 6, 6, 256)         590080    \n",
      "_________________________________________________________________\n",
      "batch_normalization_43 (Batc (None, 6, 6, 256)         1024      \n",
      "_________________________________________________________________\n",
      "max_pooling2d_19 (MaxPooling (None, 3, 3, 256)         0         \n",
      "_________________________________________________________________\n",
      "dropout_23 (Dropout)         (None, 3, 3, 256)         0         \n",
      "_________________________________________________________________\n",
      "flatten_4 (Flatten)          (None, 2304)              0         \n",
      "_________________________________________________________________\n",
      "dense_6 (Dense)              (None, 64)                147520    \n",
      "_________________________________________________________________\n",
      "batch_normalization_44 (Batc (None, 64)                256       \n",
      "_________________________________________________________________\n",
      "dropout_24 (Dropout)         (None, 64)                0         \n",
      "_________________________________________________________________\n",
      "dense_7 (Dense)              (None, 64)                4160      \n",
      "_________________________________________________________________\n",
      "batch_normalization_45 (Batc (None, 64)                256       \n",
      "_________________________________________________________________\n",
      "dropout_25 (Dropout)         (None, 64)                0         \n",
      "_________________________________________________________________\n",
      "dense_8 (Dense)              (None, 7)                 455       \n",
      "=================================================================\n",
      "Total params: 1,328,167\n",
      "Trainable params: 1,325,991\n",
      "Non-trainable params: 2,176\n",
      "_________________________________________________________________\n"
     ]
    }
   ],
   "source": [
    "model.summary()"
   ]
  },
  {
   "cell_type": "code",
   "execution_count": 44,
   "metadata": {},
   "outputs": [],
   "source": [
    "model.compile(optimizer='adam',loss='categorical_crossentropy',metrics='accuracy')"
   ]
  },
  {
   "cell_type": "code",
   "execution_count": 45,
   "metadata": {},
   "outputs": [],
   "source": [
    "plateau=ReduceLROnPlateau(monitor='val_loss',min_delta=0.00001)\n",
    "early_stop=EarlyStopping(monitor='val_loss',min_delta=0.0001,patience=6,\n",
    "                        restore_best_weights=True)"
   ]
  },
  {
   "cell_type": "code",
   "execution_count": 46,
   "metadata": {},
   "outputs": [],
   "source": [
    "callbacks=[plateau,early_stop]"
   ]
  },
  {
   "cell_type": "code",
   "execution_count": 47,
   "metadata": {
    "scrolled": true
   },
   "outputs": [
    {
     "name": "stdout",
     "output_type": "stream",
     "text": [
      "Epoch 1/50\n",
      "1795/1795 [==============================] - 328s 182ms/step - loss: 2.2717 - accuracy: 0.1845 - val_loss: 1.8143 - val_accuracy: 0.2463\n",
      "Epoch 2/50\n",
      "1795/1795 [==============================] - 343s 191ms/step - loss: 1.8136 - accuracy: 0.2444 - val_loss: 1.7981 - val_accuracy: 0.2452\n",
      "Epoch 3/50\n",
      "1795/1795 [==============================] - 461s 257ms/step - loss: 1.7926 - accuracy: 0.2546 - val_loss: 1.7530 - val_accuracy: 0.2850\n",
      "Epoch 4/50\n",
      "1795/1795 [==============================] - 552s 307ms/step - loss: 1.7605 - accuracy: 0.2761 - val_loss: 1.6610 - val_accuracy: 0.3330\n",
      "Epoch 5/50\n",
      "1795/1795 [==============================] - 640s 356ms/step - loss: 1.6941 - accuracy: 0.3099 - val_loss: 1.5658 - val_accuracy: 0.3856\n",
      "Epoch 6/50\n",
      "1795/1795 [==============================] - 612s 341ms/step - loss: 1.6244 - accuracy: 0.3640 - val_loss: 1.5317 - val_accuracy: 0.4188\n",
      "Epoch 7/50\n",
      "1795/1795 [==============================] - 763s 425ms/step - loss: 1.5606 - accuracy: 0.3951 - val_loss: 1.5711 - val_accuracy: 0.4238\n",
      "Epoch 8/50\n",
      "1795/1795 [==============================] - 635s 354ms/step - loss: 1.5134 - accuracy: 0.4139 - val_loss: 1.5240 - val_accuracy: 0.4341\n",
      "Epoch 9/50\n",
      "1795/1795 [==============================] - 507s 282ms/step - loss: 1.4755 - accuracy: 0.4269 - val_loss: 1.5017 - val_accuracy: 0.4503\n",
      "Epoch 10/50\n",
      "1795/1795 [==============================] - 460s 256ms/step - loss: 1.4351 - accuracy: 0.4503 - val_loss: 1.4870 - val_accuracy: 0.4310\n",
      "Epoch 11/50\n",
      "1795/1795 [==============================] - 478s 267ms/step - loss: 1.4268 - accuracy: 0.4501 - val_loss: 1.4948 - val_accuracy: 0.4528\n",
      "Epoch 12/50\n",
      "1795/1795 [==============================] - 539s 300ms/step - loss: 1.4208 - accuracy: 0.4594 - val_loss: 1.4623 - val_accuracy: 0.4714\n",
      "Epoch 13/50\n",
      "1795/1795 [==============================] - 503s 280ms/step - loss: 1.4002 - accuracy: 0.4650 - val_loss: 1.4544 - val_accuracy: 0.4948\n",
      "Epoch 14/50\n",
      "1795/1795 [==============================] - 478s 267ms/step - loss: 1.3896 - accuracy: 0.4693 - val_loss: 1.4515 - val_accuracy: 0.4809\n",
      "Epoch 15/50\n",
      "1795/1795 [==============================] - 464s 259ms/step - loss: 1.3893 - accuracy: 0.4712 - val_loss: 1.4615 - val_accuracy: 0.4862\n",
      "Epoch 16/50\n",
      "1795/1795 [==============================] - 405s 225ms/step - loss: 1.3717 - accuracy: 0.4794 - val_loss: 1.4338 - val_accuracy: 0.4851\n",
      "Epoch 17/50\n",
      "1795/1795 [==============================] - 347s 193ms/step - loss: 1.3534 - accuracy: 0.4894 - val_loss: 1.4099 - val_accuracy: 0.5049\n",
      "Epoch 18/50\n",
      "1795/1795 [==============================] - 346s 193ms/step - loss: 1.3436 - accuracy: 0.4947 - val_loss: 1.4280 - val_accuracy: 0.5079\n",
      "Epoch 19/50\n",
      "1795/1795 [==============================] - 349s 194ms/step - loss: 1.3427 - accuracy: 0.4910 - val_loss: 1.4280 - val_accuracy: 0.4954\n",
      "Epoch 20/50\n",
      "1795/1795 [==============================] - 349s 194ms/step - loss: 1.3431 - accuracy: 0.4889 - val_loss: 1.3744 - val_accuracy: 0.5018\n",
      "Epoch 21/50\n",
      "1795/1795 [==============================] - 349s 194ms/step - loss: 1.3419 - accuracy: 0.4959 - val_loss: 1.4056 - val_accuracy: 0.5091\n",
      "Epoch 22/50\n",
      "1795/1795 [==============================] - 349s 194ms/step - loss: 1.3205 - accuracy: 0.5025 - val_loss: 1.4504 - val_accuracy: 0.5082\n",
      "Epoch 23/50\n",
      "1795/1795 [==============================] - 349s 194ms/step - loss: 1.3184 - accuracy: 0.5038 - val_loss: 1.3694 - val_accuracy: 0.5079\n",
      "Epoch 24/50\n",
      "1795/1795 [==============================] - 349s 195ms/step - loss: 1.3023 - accuracy: 0.5124 - val_loss: 1.3696 - val_accuracy: 0.5110\n",
      "Epoch 25/50\n",
      "1795/1795 [==============================] - 347s 194ms/step - loss: 1.2983 - accuracy: 0.5144 - val_loss: 1.3568 - val_accuracy: 0.5183\n",
      "Epoch 26/50\n",
      "1795/1795 [==============================] - 347s 193ms/step - loss: 1.2897 - accuracy: 0.5207 - val_loss: 1.3855 - val_accuracy: 0.5199\n",
      "Epoch 27/50\n",
      "1795/1795 [==============================] - 347s 193ms/step - loss: 1.2904 - accuracy: 0.5113 - val_loss: 1.4007 - val_accuracy: 0.5093\n",
      "Epoch 28/50\n",
      "1795/1795 [==============================] - 346s 193ms/step - loss: 1.2762 - accuracy: 0.5254 - val_loss: 1.3903 - val_accuracy: 0.5149\n",
      "Epoch 29/50\n",
      "1795/1795 [==============================] - 346s 193ms/step - loss: 1.2766 - accuracy: 0.5274 - val_loss: 1.3779 - val_accuracy: 0.5127\n",
      "Epoch 30/50\n",
      "1795/1795 [==============================] - 346s 193ms/step - loss: 1.2747 - accuracy: 0.5239 - val_loss: 1.3766 - val_accuracy: 0.5160\n",
      "Epoch 31/50\n",
      "1795/1795 [==============================] - 346s 193ms/step - loss: 1.2685 - accuracy: 0.5248 - val_loss: 1.3784 - val_accuracy: 0.5272\n",
      "CPU times: user 14h 50min 34s, sys: 7h 32min 27s, total: 22h 23min 1s\n",
      "Wall time: 3h 43min 1s\n"
     ]
    },
    {
     "data": {
      "text/plain": [
       "<tensorflow.python.keras.callbacks.History at 0x7f8f5fc35090>"
      ]
     },
     "execution_count": 47,
     "metadata": {},
     "output_type": "execute_result"
    }
   ],
   "source": [
    "%%time\n",
    "model.fit_generator(train_data,validation_data=validation_data,callbacks=callbacks,\n",
    "                   epochs=50,verbose=1)"
   ]
  },
  {
   "cell_type": "code",
   "execution_count": null,
   "metadata": {},
   "outputs": [],
   "source": []
  }
 ],
 "metadata": {
  "coursera": {
   "course_slug": "python-machine-learning",
   "graded_item_id": "f9SY5",
   "launcher_item_id": "oxndk",
   "part_id": "mh1Vo"
  },
  "kernelspec": {
   "display_name": "Python 3",
   "language": "python",
   "name": "python3"
  },
  "language_info": {
   "codemirror_mode": {
    "name": "ipython",
    "version": 3
   },
   "file_extension": ".py",
   "mimetype": "text/x-python",
   "name": "python",
   "nbconvert_exporter": "python",
   "pygments_lexer": "ipython3",
   "version": "3.7.6"
  }
 },
 "nbformat": 4,
 "nbformat_minor": 1
}
